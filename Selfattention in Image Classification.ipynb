{
  "nbformat": 4,
  "nbformat_minor": 0,
  "metadata": {
    "colab": {
      "name": "Copy of selfattention.ipynb",
      "provenance": [],
      "collapsed_sections": []
    },
    "kernelspec": {
      "name": "python3",
      "display_name": "Python 3"
    },
    "language_info": {
      "name": "python"
    },
    "accelerator": "GPU",
    "widgets": {
      "application/vnd.jupyter.widget-state+json": {
        "bdbb9a5d4f604323a06a8a97a996aaf2": {
          "model_module": "@jupyter-widgets/controls",
          "model_name": "HBoxModel",
          "model_module_version": "1.5.0",
          "state": {
            "_dom_classes": [],
            "_model_module": "@jupyter-widgets/controls",
            "_model_module_version": "1.5.0",
            "_model_name": "HBoxModel",
            "_view_count": null,
            "_view_module": "@jupyter-widgets/controls",
            "_view_module_version": "1.5.0",
            "_view_name": "HBoxView",
            "box_style": "",
            "children": [
              "IPY_MODEL_d9804ff9ea2044d78082d3af50a17be5",
              "IPY_MODEL_496249c4b7d144f6b0dd3c394caf45d7",
              "IPY_MODEL_d6d491fb9ed34ec78fc38c2221d4f397"
            ],
            "layout": "IPY_MODEL_d7768f7e8e7e4639998f9b6f1115f293"
          }
        },
        "d9804ff9ea2044d78082d3af50a17be5": {
          "model_module": "@jupyter-widgets/controls",
          "model_name": "HTMLModel",
          "model_module_version": "1.5.0",
          "state": {
            "_dom_classes": [],
            "_model_module": "@jupyter-widgets/controls",
            "_model_module_version": "1.5.0",
            "_model_name": "HTMLModel",
            "_view_count": null,
            "_view_module": "@jupyter-widgets/controls",
            "_view_module_version": "1.5.0",
            "_view_name": "HTMLView",
            "description": "",
            "description_tooltip": null,
            "layout": "IPY_MODEL_3fca0711602c401e9cda33d32b569596",
            "placeholder": "​",
            "style": "IPY_MODEL_3d143af7673c49a896771115fe1dd801",
            "value": ""
          }
        },
        "496249c4b7d144f6b0dd3c394caf45d7": {
          "model_module": "@jupyter-widgets/controls",
          "model_name": "FloatProgressModel",
          "model_module_version": "1.5.0",
          "state": {
            "_dom_classes": [],
            "_model_module": "@jupyter-widgets/controls",
            "_model_module_version": "1.5.0",
            "_model_name": "FloatProgressModel",
            "_view_count": null,
            "_view_module": "@jupyter-widgets/controls",
            "_view_module_version": "1.5.0",
            "_view_name": "ProgressView",
            "bar_style": "success",
            "description": "",
            "description_tooltip": null,
            "layout": "IPY_MODEL_64f9715b56d34a4996885cbaa637ae28",
            "max": 9912422,
            "min": 0,
            "orientation": "horizontal",
            "style": "IPY_MODEL_e62146f361be4df3b5a69c74661e51e8",
            "value": 9912422
          }
        },
        "d6d491fb9ed34ec78fc38c2221d4f397": {
          "model_module": "@jupyter-widgets/controls",
          "model_name": "HTMLModel",
          "model_module_version": "1.5.0",
          "state": {
            "_dom_classes": [],
            "_model_module": "@jupyter-widgets/controls",
            "_model_module_version": "1.5.0",
            "_model_name": "HTMLModel",
            "_view_count": null,
            "_view_module": "@jupyter-widgets/controls",
            "_view_module_version": "1.5.0",
            "_view_name": "HTMLView",
            "description": "",
            "description_tooltip": null,
            "layout": "IPY_MODEL_9a0b0b4434784863bcc337a4dfee19a9",
            "placeholder": "​",
            "style": "IPY_MODEL_1ec1666686f242f1809cbd81bf008cf5",
            "value": " 9913344/? [00:00&lt;00:00, 25250900.84it/s]"
          }
        },
        "d7768f7e8e7e4639998f9b6f1115f293": {
          "model_module": "@jupyter-widgets/base",
          "model_name": "LayoutModel",
          "model_module_version": "1.2.0",
          "state": {
            "_model_module": "@jupyter-widgets/base",
            "_model_module_version": "1.2.0",
            "_model_name": "LayoutModel",
            "_view_count": null,
            "_view_module": "@jupyter-widgets/base",
            "_view_module_version": "1.2.0",
            "_view_name": "LayoutView",
            "align_content": null,
            "align_items": null,
            "align_self": null,
            "border": null,
            "bottom": null,
            "display": null,
            "flex": null,
            "flex_flow": null,
            "grid_area": null,
            "grid_auto_columns": null,
            "grid_auto_flow": null,
            "grid_auto_rows": null,
            "grid_column": null,
            "grid_gap": null,
            "grid_row": null,
            "grid_template_areas": null,
            "grid_template_columns": null,
            "grid_template_rows": null,
            "height": null,
            "justify_content": null,
            "justify_items": null,
            "left": null,
            "margin": null,
            "max_height": null,
            "max_width": null,
            "min_height": null,
            "min_width": null,
            "object_fit": null,
            "object_position": null,
            "order": null,
            "overflow": null,
            "overflow_x": null,
            "overflow_y": null,
            "padding": null,
            "right": null,
            "top": null,
            "visibility": null,
            "width": null
          }
        },
        "3fca0711602c401e9cda33d32b569596": {
          "model_module": "@jupyter-widgets/base",
          "model_name": "LayoutModel",
          "model_module_version": "1.2.0",
          "state": {
            "_model_module": "@jupyter-widgets/base",
            "_model_module_version": "1.2.0",
            "_model_name": "LayoutModel",
            "_view_count": null,
            "_view_module": "@jupyter-widgets/base",
            "_view_module_version": "1.2.0",
            "_view_name": "LayoutView",
            "align_content": null,
            "align_items": null,
            "align_self": null,
            "border": null,
            "bottom": null,
            "display": null,
            "flex": null,
            "flex_flow": null,
            "grid_area": null,
            "grid_auto_columns": null,
            "grid_auto_flow": null,
            "grid_auto_rows": null,
            "grid_column": null,
            "grid_gap": null,
            "grid_row": null,
            "grid_template_areas": null,
            "grid_template_columns": null,
            "grid_template_rows": null,
            "height": null,
            "justify_content": null,
            "justify_items": null,
            "left": null,
            "margin": null,
            "max_height": null,
            "max_width": null,
            "min_height": null,
            "min_width": null,
            "object_fit": null,
            "object_position": null,
            "order": null,
            "overflow": null,
            "overflow_x": null,
            "overflow_y": null,
            "padding": null,
            "right": null,
            "top": null,
            "visibility": null,
            "width": null
          }
        },
        "3d143af7673c49a896771115fe1dd801": {
          "model_module": "@jupyter-widgets/controls",
          "model_name": "DescriptionStyleModel",
          "model_module_version": "1.5.0",
          "state": {
            "_model_module": "@jupyter-widgets/controls",
            "_model_module_version": "1.5.0",
            "_model_name": "DescriptionStyleModel",
            "_view_count": null,
            "_view_module": "@jupyter-widgets/base",
            "_view_module_version": "1.2.0",
            "_view_name": "StyleView",
            "description_width": ""
          }
        },
        "64f9715b56d34a4996885cbaa637ae28": {
          "model_module": "@jupyter-widgets/base",
          "model_name": "LayoutModel",
          "model_module_version": "1.2.0",
          "state": {
            "_model_module": "@jupyter-widgets/base",
            "_model_module_version": "1.2.0",
            "_model_name": "LayoutModel",
            "_view_count": null,
            "_view_module": "@jupyter-widgets/base",
            "_view_module_version": "1.2.0",
            "_view_name": "LayoutView",
            "align_content": null,
            "align_items": null,
            "align_self": null,
            "border": null,
            "bottom": null,
            "display": null,
            "flex": null,
            "flex_flow": null,
            "grid_area": null,
            "grid_auto_columns": null,
            "grid_auto_flow": null,
            "grid_auto_rows": null,
            "grid_column": null,
            "grid_gap": null,
            "grid_row": null,
            "grid_template_areas": null,
            "grid_template_columns": null,
            "grid_template_rows": null,
            "height": null,
            "justify_content": null,
            "justify_items": null,
            "left": null,
            "margin": null,
            "max_height": null,
            "max_width": null,
            "min_height": null,
            "min_width": null,
            "object_fit": null,
            "object_position": null,
            "order": null,
            "overflow": null,
            "overflow_x": null,
            "overflow_y": null,
            "padding": null,
            "right": null,
            "top": null,
            "visibility": null,
            "width": null
          }
        },
        "e62146f361be4df3b5a69c74661e51e8": {
          "model_module": "@jupyter-widgets/controls",
          "model_name": "ProgressStyleModel",
          "model_module_version": "1.5.0",
          "state": {
            "_model_module": "@jupyter-widgets/controls",
            "_model_module_version": "1.5.0",
            "_model_name": "ProgressStyleModel",
            "_view_count": null,
            "_view_module": "@jupyter-widgets/base",
            "_view_module_version": "1.2.0",
            "_view_name": "StyleView",
            "bar_color": null,
            "description_width": ""
          }
        },
        "9a0b0b4434784863bcc337a4dfee19a9": {
          "model_module": "@jupyter-widgets/base",
          "model_name": "LayoutModel",
          "model_module_version": "1.2.0",
          "state": {
            "_model_module": "@jupyter-widgets/base",
            "_model_module_version": "1.2.0",
            "_model_name": "LayoutModel",
            "_view_count": null,
            "_view_module": "@jupyter-widgets/base",
            "_view_module_version": "1.2.0",
            "_view_name": "LayoutView",
            "align_content": null,
            "align_items": null,
            "align_self": null,
            "border": null,
            "bottom": null,
            "display": null,
            "flex": null,
            "flex_flow": null,
            "grid_area": null,
            "grid_auto_columns": null,
            "grid_auto_flow": null,
            "grid_auto_rows": null,
            "grid_column": null,
            "grid_gap": null,
            "grid_row": null,
            "grid_template_areas": null,
            "grid_template_columns": null,
            "grid_template_rows": null,
            "height": null,
            "justify_content": null,
            "justify_items": null,
            "left": null,
            "margin": null,
            "max_height": null,
            "max_width": null,
            "min_height": null,
            "min_width": null,
            "object_fit": null,
            "object_position": null,
            "order": null,
            "overflow": null,
            "overflow_x": null,
            "overflow_y": null,
            "padding": null,
            "right": null,
            "top": null,
            "visibility": null,
            "width": null
          }
        },
        "1ec1666686f242f1809cbd81bf008cf5": {
          "model_module": "@jupyter-widgets/controls",
          "model_name": "DescriptionStyleModel",
          "model_module_version": "1.5.0",
          "state": {
            "_model_module": "@jupyter-widgets/controls",
            "_model_module_version": "1.5.0",
            "_model_name": "DescriptionStyleModel",
            "_view_count": null,
            "_view_module": "@jupyter-widgets/base",
            "_view_module_version": "1.2.0",
            "_view_name": "StyleView",
            "description_width": ""
          }
        },
        "deef3fac6a764d3b80625545aeb173bc": {
          "model_module": "@jupyter-widgets/controls",
          "model_name": "HBoxModel",
          "model_module_version": "1.5.0",
          "state": {
            "_dom_classes": [],
            "_model_module": "@jupyter-widgets/controls",
            "_model_module_version": "1.5.0",
            "_model_name": "HBoxModel",
            "_view_count": null,
            "_view_module": "@jupyter-widgets/controls",
            "_view_module_version": "1.5.0",
            "_view_name": "HBoxView",
            "box_style": "",
            "children": [
              "IPY_MODEL_4e2d4ec5829d48e0b6a68d275ab67af3",
              "IPY_MODEL_78b8a70de7fa4b0c87c540728a206a57",
              "IPY_MODEL_c3bca045ed7141af9e741880e17d2294"
            ],
            "layout": "IPY_MODEL_bb2f7f24eb3a429a8fbd1ce0b321bed4"
          }
        },
        "4e2d4ec5829d48e0b6a68d275ab67af3": {
          "model_module": "@jupyter-widgets/controls",
          "model_name": "HTMLModel",
          "model_module_version": "1.5.0",
          "state": {
            "_dom_classes": [],
            "_model_module": "@jupyter-widgets/controls",
            "_model_module_version": "1.5.0",
            "_model_name": "HTMLModel",
            "_view_count": null,
            "_view_module": "@jupyter-widgets/controls",
            "_view_module_version": "1.5.0",
            "_view_name": "HTMLView",
            "description": "",
            "description_tooltip": null,
            "layout": "IPY_MODEL_9d21cd4729a44180992a1f8bdb0f3bba",
            "placeholder": "​",
            "style": "IPY_MODEL_697ed49c417740f29262eb6358bee919",
            "value": ""
          }
        },
        "78b8a70de7fa4b0c87c540728a206a57": {
          "model_module": "@jupyter-widgets/controls",
          "model_name": "FloatProgressModel",
          "model_module_version": "1.5.0",
          "state": {
            "_dom_classes": [],
            "_model_module": "@jupyter-widgets/controls",
            "_model_module_version": "1.5.0",
            "_model_name": "FloatProgressModel",
            "_view_count": null,
            "_view_module": "@jupyter-widgets/controls",
            "_view_module_version": "1.5.0",
            "_view_name": "ProgressView",
            "bar_style": "success",
            "description": "",
            "description_tooltip": null,
            "layout": "IPY_MODEL_a94b7586a422405e97d54dbaa68c240d",
            "max": 28881,
            "min": 0,
            "orientation": "horizontal",
            "style": "IPY_MODEL_5bb3cd2aa24646aead4adad4a62852b9",
            "value": 28881
          }
        },
        "c3bca045ed7141af9e741880e17d2294": {
          "model_module": "@jupyter-widgets/controls",
          "model_name": "HTMLModel",
          "model_module_version": "1.5.0",
          "state": {
            "_dom_classes": [],
            "_model_module": "@jupyter-widgets/controls",
            "_model_module_version": "1.5.0",
            "_model_name": "HTMLModel",
            "_view_count": null,
            "_view_module": "@jupyter-widgets/controls",
            "_view_module_version": "1.5.0",
            "_view_name": "HTMLView",
            "description": "",
            "description_tooltip": null,
            "layout": "IPY_MODEL_1ba953f6068c4da0a8694ea75c66a923",
            "placeholder": "​",
            "style": "IPY_MODEL_a06c025bd03a4137899954fcca176127",
            "value": " 29696/? [00:00&lt;00:00, 923881.82it/s]"
          }
        },
        "bb2f7f24eb3a429a8fbd1ce0b321bed4": {
          "model_module": "@jupyter-widgets/base",
          "model_name": "LayoutModel",
          "model_module_version": "1.2.0",
          "state": {
            "_model_module": "@jupyter-widgets/base",
            "_model_module_version": "1.2.0",
            "_model_name": "LayoutModel",
            "_view_count": null,
            "_view_module": "@jupyter-widgets/base",
            "_view_module_version": "1.2.0",
            "_view_name": "LayoutView",
            "align_content": null,
            "align_items": null,
            "align_self": null,
            "border": null,
            "bottom": null,
            "display": null,
            "flex": null,
            "flex_flow": null,
            "grid_area": null,
            "grid_auto_columns": null,
            "grid_auto_flow": null,
            "grid_auto_rows": null,
            "grid_column": null,
            "grid_gap": null,
            "grid_row": null,
            "grid_template_areas": null,
            "grid_template_columns": null,
            "grid_template_rows": null,
            "height": null,
            "justify_content": null,
            "justify_items": null,
            "left": null,
            "margin": null,
            "max_height": null,
            "max_width": null,
            "min_height": null,
            "min_width": null,
            "object_fit": null,
            "object_position": null,
            "order": null,
            "overflow": null,
            "overflow_x": null,
            "overflow_y": null,
            "padding": null,
            "right": null,
            "top": null,
            "visibility": null,
            "width": null
          }
        },
        "9d21cd4729a44180992a1f8bdb0f3bba": {
          "model_module": "@jupyter-widgets/base",
          "model_name": "LayoutModel",
          "model_module_version": "1.2.0",
          "state": {
            "_model_module": "@jupyter-widgets/base",
            "_model_module_version": "1.2.0",
            "_model_name": "LayoutModel",
            "_view_count": null,
            "_view_module": "@jupyter-widgets/base",
            "_view_module_version": "1.2.0",
            "_view_name": "LayoutView",
            "align_content": null,
            "align_items": null,
            "align_self": null,
            "border": null,
            "bottom": null,
            "display": null,
            "flex": null,
            "flex_flow": null,
            "grid_area": null,
            "grid_auto_columns": null,
            "grid_auto_flow": null,
            "grid_auto_rows": null,
            "grid_column": null,
            "grid_gap": null,
            "grid_row": null,
            "grid_template_areas": null,
            "grid_template_columns": null,
            "grid_template_rows": null,
            "height": null,
            "justify_content": null,
            "justify_items": null,
            "left": null,
            "margin": null,
            "max_height": null,
            "max_width": null,
            "min_height": null,
            "min_width": null,
            "object_fit": null,
            "object_position": null,
            "order": null,
            "overflow": null,
            "overflow_x": null,
            "overflow_y": null,
            "padding": null,
            "right": null,
            "top": null,
            "visibility": null,
            "width": null
          }
        },
        "697ed49c417740f29262eb6358bee919": {
          "model_module": "@jupyter-widgets/controls",
          "model_name": "DescriptionStyleModel",
          "model_module_version": "1.5.0",
          "state": {
            "_model_module": "@jupyter-widgets/controls",
            "_model_module_version": "1.5.0",
            "_model_name": "DescriptionStyleModel",
            "_view_count": null,
            "_view_module": "@jupyter-widgets/base",
            "_view_module_version": "1.2.0",
            "_view_name": "StyleView",
            "description_width": ""
          }
        },
        "a94b7586a422405e97d54dbaa68c240d": {
          "model_module": "@jupyter-widgets/base",
          "model_name": "LayoutModel",
          "model_module_version": "1.2.0",
          "state": {
            "_model_module": "@jupyter-widgets/base",
            "_model_module_version": "1.2.0",
            "_model_name": "LayoutModel",
            "_view_count": null,
            "_view_module": "@jupyter-widgets/base",
            "_view_module_version": "1.2.0",
            "_view_name": "LayoutView",
            "align_content": null,
            "align_items": null,
            "align_self": null,
            "border": null,
            "bottom": null,
            "display": null,
            "flex": null,
            "flex_flow": null,
            "grid_area": null,
            "grid_auto_columns": null,
            "grid_auto_flow": null,
            "grid_auto_rows": null,
            "grid_column": null,
            "grid_gap": null,
            "grid_row": null,
            "grid_template_areas": null,
            "grid_template_columns": null,
            "grid_template_rows": null,
            "height": null,
            "justify_content": null,
            "justify_items": null,
            "left": null,
            "margin": null,
            "max_height": null,
            "max_width": null,
            "min_height": null,
            "min_width": null,
            "object_fit": null,
            "object_position": null,
            "order": null,
            "overflow": null,
            "overflow_x": null,
            "overflow_y": null,
            "padding": null,
            "right": null,
            "top": null,
            "visibility": null,
            "width": null
          }
        },
        "5bb3cd2aa24646aead4adad4a62852b9": {
          "model_module": "@jupyter-widgets/controls",
          "model_name": "ProgressStyleModel",
          "model_module_version": "1.5.0",
          "state": {
            "_model_module": "@jupyter-widgets/controls",
            "_model_module_version": "1.5.0",
            "_model_name": "ProgressStyleModel",
            "_view_count": null,
            "_view_module": "@jupyter-widgets/base",
            "_view_module_version": "1.2.0",
            "_view_name": "StyleView",
            "bar_color": null,
            "description_width": ""
          }
        },
        "1ba953f6068c4da0a8694ea75c66a923": {
          "model_module": "@jupyter-widgets/base",
          "model_name": "LayoutModel",
          "model_module_version": "1.2.0",
          "state": {
            "_model_module": "@jupyter-widgets/base",
            "_model_module_version": "1.2.0",
            "_model_name": "LayoutModel",
            "_view_count": null,
            "_view_module": "@jupyter-widgets/base",
            "_view_module_version": "1.2.0",
            "_view_name": "LayoutView",
            "align_content": null,
            "align_items": null,
            "align_self": null,
            "border": null,
            "bottom": null,
            "display": null,
            "flex": null,
            "flex_flow": null,
            "grid_area": null,
            "grid_auto_columns": null,
            "grid_auto_flow": null,
            "grid_auto_rows": null,
            "grid_column": null,
            "grid_gap": null,
            "grid_row": null,
            "grid_template_areas": null,
            "grid_template_columns": null,
            "grid_template_rows": null,
            "height": null,
            "justify_content": null,
            "justify_items": null,
            "left": null,
            "margin": null,
            "max_height": null,
            "max_width": null,
            "min_height": null,
            "min_width": null,
            "object_fit": null,
            "object_position": null,
            "order": null,
            "overflow": null,
            "overflow_x": null,
            "overflow_y": null,
            "padding": null,
            "right": null,
            "top": null,
            "visibility": null,
            "width": null
          }
        },
        "a06c025bd03a4137899954fcca176127": {
          "model_module": "@jupyter-widgets/controls",
          "model_name": "DescriptionStyleModel",
          "model_module_version": "1.5.0",
          "state": {
            "_model_module": "@jupyter-widgets/controls",
            "_model_module_version": "1.5.0",
            "_model_name": "DescriptionStyleModel",
            "_view_count": null,
            "_view_module": "@jupyter-widgets/base",
            "_view_module_version": "1.2.0",
            "_view_name": "StyleView",
            "description_width": ""
          }
        },
        "5970e114aab5418cad04221c48d22751": {
          "model_module": "@jupyter-widgets/controls",
          "model_name": "HBoxModel",
          "model_module_version": "1.5.0",
          "state": {
            "_dom_classes": [],
            "_model_module": "@jupyter-widgets/controls",
            "_model_module_version": "1.5.0",
            "_model_name": "HBoxModel",
            "_view_count": null,
            "_view_module": "@jupyter-widgets/controls",
            "_view_module_version": "1.5.0",
            "_view_name": "HBoxView",
            "box_style": "",
            "children": [
              "IPY_MODEL_689c732db679421080df29609b9ebbe2",
              "IPY_MODEL_e9e3f30f0b2943d08534991ec350fcc7",
              "IPY_MODEL_5c9854e19bbd4a8aa703ee597abeb6b2"
            ],
            "layout": "IPY_MODEL_9a73c6be04f44a0fa611c5d79e7159d2"
          }
        },
        "689c732db679421080df29609b9ebbe2": {
          "model_module": "@jupyter-widgets/controls",
          "model_name": "HTMLModel",
          "model_module_version": "1.5.0",
          "state": {
            "_dom_classes": [],
            "_model_module": "@jupyter-widgets/controls",
            "_model_module_version": "1.5.0",
            "_model_name": "HTMLModel",
            "_view_count": null,
            "_view_module": "@jupyter-widgets/controls",
            "_view_module_version": "1.5.0",
            "_view_name": "HTMLView",
            "description": "",
            "description_tooltip": null,
            "layout": "IPY_MODEL_c3ed8f3f8c0f4990baa85b837430edd3",
            "placeholder": "​",
            "style": "IPY_MODEL_3f63f0e1458641e687ecca793a9a6818",
            "value": ""
          }
        },
        "e9e3f30f0b2943d08534991ec350fcc7": {
          "model_module": "@jupyter-widgets/controls",
          "model_name": "FloatProgressModel",
          "model_module_version": "1.5.0",
          "state": {
            "_dom_classes": [],
            "_model_module": "@jupyter-widgets/controls",
            "_model_module_version": "1.5.0",
            "_model_name": "FloatProgressModel",
            "_view_count": null,
            "_view_module": "@jupyter-widgets/controls",
            "_view_module_version": "1.5.0",
            "_view_name": "ProgressView",
            "bar_style": "success",
            "description": "",
            "description_tooltip": null,
            "layout": "IPY_MODEL_68392d40af354aaeafab6b6adfbe44d3",
            "max": 1648877,
            "min": 0,
            "orientation": "horizontal",
            "style": "IPY_MODEL_ecea80d6422a4a97ad09732b3adaa9f5",
            "value": 1648877
          }
        },
        "5c9854e19bbd4a8aa703ee597abeb6b2": {
          "model_module": "@jupyter-widgets/controls",
          "model_name": "HTMLModel",
          "model_module_version": "1.5.0",
          "state": {
            "_dom_classes": [],
            "_model_module": "@jupyter-widgets/controls",
            "_model_module_version": "1.5.0",
            "_model_name": "HTMLModel",
            "_view_count": null,
            "_view_module": "@jupyter-widgets/controls",
            "_view_module_version": "1.5.0",
            "_view_name": "HTMLView",
            "description": "",
            "description_tooltip": null,
            "layout": "IPY_MODEL_446e13a30df54a47a2b8606cdb835d11",
            "placeholder": "​",
            "style": "IPY_MODEL_343234791e454cbea7b07cc7ef58b36d",
            "value": " 1649664/? [00:00&lt;00:00, 18859037.62it/s]"
          }
        },
        "9a73c6be04f44a0fa611c5d79e7159d2": {
          "model_module": "@jupyter-widgets/base",
          "model_name": "LayoutModel",
          "model_module_version": "1.2.0",
          "state": {
            "_model_module": "@jupyter-widgets/base",
            "_model_module_version": "1.2.0",
            "_model_name": "LayoutModel",
            "_view_count": null,
            "_view_module": "@jupyter-widgets/base",
            "_view_module_version": "1.2.0",
            "_view_name": "LayoutView",
            "align_content": null,
            "align_items": null,
            "align_self": null,
            "border": null,
            "bottom": null,
            "display": null,
            "flex": null,
            "flex_flow": null,
            "grid_area": null,
            "grid_auto_columns": null,
            "grid_auto_flow": null,
            "grid_auto_rows": null,
            "grid_column": null,
            "grid_gap": null,
            "grid_row": null,
            "grid_template_areas": null,
            "grid_template_columns": null,
            "grid_template_rows": null,
            "height": null,
            "justify_content": null,
            "justify_items": null,
            "left": null,
            "margin": null,
            "max_height": null,
            "max_width": null,
            "min_height": null,
            "min_width": null,
            "object_fit": null,
            "object_position": null,
            "order": null,
            "overflow": null,
            "overflow_x": null,
            "overflow_y": null,
            "padding": null,
            "right": null,
            "top": null,
            "visibility": null,
            "width": null
          }
        },
        "c3ed8f3f8c0f4990baa85b837430edd3": {
          "model_module": "@jupyter-widgets/base",
          "model_name": "LayoutModel",
          "model_module_version": "1.2.0",
          "state": {
            "_model_module": "@jupyter-widgets/base",
            "_model_module_version": "1.2.0",
            "_model_name": "LayoutModel",
            "_view_count": null,
            "_view_module": "@jupyter-widgets/base",
            "_view_module_version": "1.2.0",
            "_view_name": "LayoutView",
            "align_content": null,
            "align_items": null,
            "align_self": null,
            "border": null,
            "bottom": null,
            "display": null,
            "flex": null,
            "flex_flow": null,
            "grid_area": null,
            "grid_auto_columns": null,
            "grid_auto_flow": null,
            "grid_auto_rows": null,
            "grid_column": null,
            "grid_gap": null,
            "grid_row": null,
            "grid_template_areas": null,
            "grid_template_columns": null,
            "grid_template_rows": null,
            "height": null,
            "justify_content": null,
            "justify_items": null,
            "left": null,
            "margin": null,
            "max_height": null,
            "max_width": null,
            "min_height": null,
            "min_width": null,
            "object_fit": null,
            "object_position": null,
            "order": null,
            "overflow": null,
            "overflow_x": null,
            "overflow_y": null,
            "padding": null,
            "right": null,
            "top": null,
            "visibility": null,
            "width": null
          }
        },
        "3f63f0e1458641e687ecca793a9a6818": {
          "model_module": "@jupyter-widgets/controls",
          "model_name": "DescriptionStyleModel",
          "model_module_version": "1.5.0",
          "state": {
            "_model_module": "@jupyter-widgets/controls",
            "_model_module_version": "1.5.0",
            "_model_name": "DescriptionStyleModel",
            "_view_count": null,
            "_view_module": "@jupyter-widgets/base",
            "_view_module_version": "1.2.0",
            "_view_name": "StyleView",
            "description_width": ""
          }
        },
        "68392d40af354aaeafab6b6adfbe44d3": {
          "model_module": "@jupyter-widgets/base",
          "model_name": "LayoutModel",
          "model_module_version": "1.2.0",
          "state": {
            "_model_module": "@jupyter-widgets/base",
            "_model_module_version": "1.2.0",
            "_model_name": "LayoutModel",
            "_view_count": null,
            "_view_module": "@jupyter-widgets/base",
            "_view_module_version": "1.2.0",
            "_view_name": "LayoutView",
            "align_content": null,
            "align_items": null,
            "align_self": null,
            "border": null,
            "bottom": null,
            "display": null,
            "flex": null,
            "flex_flow": null,
            "grid_area": null,
            "grid_auto_columns": null,
            "grid_auto_flow": null,
            "grid_auto_rows": null,
            "grid_column": null,
            "grid_gap": null,
            "grid_row": null,
            "grid_template_areas": null,
            "grid_template_columns": null,
            "grid_template_rows": null,
            "height": null,
            "justify_content": null,
            "justify_items": null,
            "left": null,
            "margin": null,
            "max_height": null,
            "max_width": null,
            "min_height": null,
            "min_width": null,
            "object_fit": null,
            "object_position": null,
            "order": null,
            "overflow": null,
            "overflow_x": null,
            "overflow_y": null,
            "padding": null,
            "right": null,
            "top": null,
            "visibility": null,
            "width": null
          }
        },
        "ecea80d6422a4a97ad09732b3adaa9f5": {
          "model_module": "@jupyter-widgets/controls",
          "model_name": "ProgressStyleModel",
          "model_module_version": "1.5.0",
          "state": {
            "_model_module": "@jupyter-widgets/controls",
            "_model_module_version": "1.5.0",
            "_model_name": "ProgressStyleModel",
            "_view_count": null,
            "_view_module": "@jupyter-widgets/base",
            "_view_module_version": "1.2.0",
            "_view_name": "StyleView",
            "bar_color": null,
            "description_width": ""
          }
        },
        "446e13a30df54a47a2b8606cdb835d11": {
          "model_module": "@jupyter-widgets/base",
          "model_name": "LayoutModel",
          "model_module_version": "1.2.0",
          "state": {
            "_model_module": "@jupyter-widgets/base",
            "_model_module_version": "1.2.0",
            "_model_name": "LayoutModel",
            "_view_count": null,
            "_view_module": "@jupyter-widgets/base",
            "_view_module_version": "1.2.0",
            "_view_name": "LayoutView",
            "align_content": null,
            "align_items": null,
            "align_self": null,
            "border": null,
            "bottom": null,
            "display": null,
            "flex": null,
            "flex_flow": null,
            "grid_area": null,
            "grid_auto_columns": null,
            "grid_auto_flow": null,
            "grid_auto_rows": null,
            "grid_column": null,
            "grid_gap": null,
            "grid_row": null,
            "grid_template_areas": null,
            "grid_template_columns": null,
            "grid_template_rows": null,
            "height": null,
            "justify_content": null,
            "justify_items": null,
            "left": null,
            "margin": null,
            "max_height": null,
            "max_width": null,
            "min_height": null,
            "min_width": null,
            "object_fit": null,
            "object_position": null,
            "order": null,
            "overflow": null,
            "overflow_x": null,
            "overflow_y": null,
            "padding": null,
            "right": null,
            "top": null,
            "visibility": null,
            "width": null
          }
        },
        "343234791e454cbea7b07cc7ef58b36d": {
          "model_module": "@jupyter-widgets/controls",
          "model_name": "DescriptionStyleModel",
          "model_module_version": "1.5.0",
          "state": {
            "_model_module": "@jupyter-widgets/controls",
            "_model_module_version": "1.5.0",
            "_model_name": "DescriptionStyleModel",
            "_view_count": null,
            "_view_module": "@jupyter-widgets/base",
            "_view_module_version": "1.2.0",
            "_view_name": "StyleView",
            "description_width": ""
          }
        },
        "39174d64d8aa4b6cb0a72c89c653dfa8": {
          "model_module": "@jupyter-widgets/controls",
          "model_name": "HBoxModel",
          "model_module_version": "1.5.0",
          "state": {
            "_dom_classes": [],
            "_model_module": "@jupyter-widgets/controls",
            "_model_module_version": "1.5.0",
            "_model_name": "HBoxModel",
            "_view_count": null,
            "_view_module": "@jupyter-widgets/controls",
            "_view_module_version": "1.5.0",
            "_view_name": "HBoxView",
            "box_style": "",
            "children": [
              "IPY_MODEL_77443c0d85864585ac7e0eb53d1a3857",
              "IPY_MODEL_f885dd08659d4660a6351775105da341",
              "IPY_MODEL_5c6e699369b24fab9babb4d62f717347"
            ],
            "layout": "IPY_MODEL_e5c4ae991c624f7a86a13d3b03cbb923"
          }
        },
        "77443c0d85864585ac7e0eb53d1a3857": {
          "model_module": "@jupyter-widgets/controls",
          "model_name": "HTMLModel",
          "model_module_version": "1.5.0",
          "state": {
            "_dom_classes": [],
            "_model_module": "@jupyter-widgets/controls",
            "_model_module_version": "1.5.0",
            "_model_name": "HTMLModel",
            "_view_count": null,
            "_view_module": "@jupyter-widgets/controls",
            "_view_module_version": "1.5.0",
            "_view_name": "HTMLView",
            "description": "",
            "description_tooltip": null,
            "layout": "IPY_MODEL_a2ba7c27faca44ae8510f97be6fc990e",
            "placeholder": "​",
            "style": "IPY_MODEL_a0dbd2599c4e4aa0b2f6c9b1e59d7955",
            "value": ""
          }
        },
        "f885dd08659d4660a6351775105da341": {
          "model_module": "@jupyter-widgets/controls",
          "model_name": "FloatProgressModel",
          "model_module_version": "1.5.0",
          "state": {
            "_dom_classes": [],
            "_model_module": "@jupyter-widgets/controls",
            "_model_module_version": "1.5.0",
            "_model_name": "FloatProgressModel",
            "_view_count": null,
            "_view_module": "@jupyter-widgets/controls",
            "_view_module_version": "1.5.0",
            "_view_name": "ProgressView",
            "bar_style": "success",
            "description": "",
            "description_tooltip": null,
            "layout": "IPY_MODEL_e806714ed2f340fb8b00a3b193db7b40",
            "max": 4542,
            "min": 0,
            "orientation": "horizontal",
            "style": "IPY_MODEL_3360e21d89bf4566affe8f45451e9d72",
            "value": 4542
          }
        },
        "5c6e699369b24fab9babb4d62f717347": {
          "model_module": "@jupyter-widgets/controls",
          "model_name": "HTMLModel",
          "model_module_version": "1.5.0",
          "state": {
            "_dom_classes": [],
            "_model_module": "@jupyter-widgets/controls",
            "_model_module_version": "1.5.0",
            "_model_name": "HTMLModel",
            "_view_count": null,
            "_view_module": "@jupyter-widgets/controls",
            "_view_module_version": "1.5.0",
            "_view_name": "HTMLView",
            "description": "",
            "description_tooltip": null,
            "layout": "IPY_MODEL_51c1a01fdc484a90b3e4491b867831e5",
            "placeholder": "​",
            "style": "IPY_MODEL_073ebd9f9c484993966125ef6a0e431d",
            "value": " 5120/? [00:00&lt;00:00, 174424.83it/s]"
          }
        },
        "e5c4ae991c624f7a86a13d3b03cbb923": {
          "model_module": "@jupyter-widgets/base",
          "model_name": "LayoutModel",
          "model_module_version": "1.2.0",
          "state": {
            "_model_module": "@jupyter-widgets/base",
            "_model_module_version": "1.2.0",
            "_model_name": "LayoutModel",
            "_view_count": null,
            "_view_module": "@jupyter-widgets/base",
            "_view_module_version": "1.2.0",
            "_view_name": "LayoutView",
            "align_content": null,
            "align_items": null,
            "align_self": null,
            "border": null,
            "bottom": null,
            "display": null,
            "flex": null,
            "flex_flow": null,
            "grid_area": null,
            "grid_auto_columns": null,
            "grid_auto_flow": null,
            "grid_auto_rows": null,
            "grid_column": null,
            "grid_gap": null,
            "grid_row": null,
            "grid_template_areas": null,
            "grid_template_columns": null,
            "grid_template_rows": null,
            "height": null,
            "justify_content": null,
            "justify_items": null,
            "left": null,
            "margin": null,
            "max_height": null,
            "max_width": null,
            "min_height": null,
            "min_width": null,
            "object_fit": null,
            "object_position": null,
            "order": null,
            "overflow": null,
            "overflow_x": null,
            "overflow_y": null,
            "padding": null,
            "right": null,
            "top": null,
            "visibility": null,
            "width": null
          }
        },
        "a2ba7c27faca44ae8510f97be6fc990e": {
          "model_module": "@jupyter-widgets/base",
          "model_name": "LayoutModel",
          "model_module_version": "1.2.0",
          "state": {
            "_model_module": "@jupyter-widgets/base",
            "_model_module_version": "1.2.0",
            "_model_name": "LayoutModel",
            "_view_count": null,
            "_view_module": "@jupyter-widgets/base",
            "_view_module_version": "1.2.0",
            "_view_name": "LayoutView",
            "align_content": null,
            "align_items": null,
            "align_self": null,
            "border": null,
            "bottom": null,
            "display": null,
            "flex": null,
            "flex_flow": null,
            "grid_area": null,
            "grid_auto_columns": null,
            "grid_auto_flow": null,
            "grid_auto_rows": null,
            "grid_column": null,
            "grid_gap": null,
            "grid_row": null,
            "grid_template_areas": null,
            "grid_template_columns": null,
            "grid_template_rows": null,
            "height": null,
            "justify_content": null,
            "justify_items": null,
            "left": null,
            "margin": null,
            "max_height": null,
            "max_width": null,
            "min_height": null,
            "min_width": null,
            "object_fit": null,
            "object_position": null,
            "order": null,
            "overflow": null,
            "overflow_x": null,
            "overflow_y": null,
            "padding": null,
            "right": null,
            "top": null,
            "visibility": null,
            "width": null
          }
        },
        "a0dbd2599c4e4aa0b2f6c9b1e59d7955": {
          "model_module": "@jupyter-widgets/controls",
          "model_name": "DescriptionStyleModel",
          "model_module_version": "1.5.0",
          "state": {
            "_model_module": "@jupyter-widgets/controls",
            "_model_module_version": "1.5.0",
            "_model_name": "DescriptionStyleModel",
            "_view_count": null,
            "_view_module": "@jupyter-widgets/base",
            "_view_module_version": "1.2.0",
            "_view_name": "StyleView",
            "description_width": ""
          }
        },
        "e806714ed2f340fb8b00a3b193db7b40": {
          "model_module": "@jupyter-widgets/base",
          "model_name": "LayoutModel",
          "model_module_version": "1.2.0",
          "state": {
            "_model_module": "@jupyter-widgets/base",
            "_model_module_version": "1.2.0",
            "_model_name": "LayoutModel",
            "_view_count": null,
            "_view_module": "@jupyter-widgets/base",
            "_view_module_version": "1.2.0",
            "_view_name": "LayoutView",
            "align_content": null,
            "align_items": null,
            "align_self": null,
            "border": null,
            "bottom": null,
            "display": null,
            "flex": null,
            "flex_flow": null,
            "grid_area": null,
            "grid_auto_columns": null,
            "grid_auto_flow": null,
            "grid_auto_rows": null,
            "grid_column": null,
            "grid_gap": null,
            "grid_row": null,
            "grid_template_areas": null,
            "grid_template_columns": null,
            "grid_template_rows": null,
            "height": null,
            "justify_content": null,
            "justify_items": null,
            "left": null,
            "margin": null,
            "max_height": null,
            "max_width": null,
            "min_height": null,
            "min_width": null,
            "object_fit": null,
            "object_position": null,
            "order": null,
            "overflow": null,
            "overflow_x": null,
            "overflow_y": null,
            "padding": null,
            "right": null,
            "top": null,
            "visibility": null,
            "width": null
          }
        },
        "3360e21d89bf4566affe8f45451e9d72": {
          "model_module": "@jupyter-widgets/controls",
          "model_name": "ProgressStyleModel",
          "model_module_version": "1.5.0",
          "state": {
            "_model_module": "@jupyter-widgets/controls",
            "_model_module_version": "1.5.0",
            "_model_name": "ProgressStyleModel",
            "_view_count": null,
            "_view_module": "@jupyter-widgets/base",
            "_view_module_version": "1.2.0",
            "_view_name": "StyleView",
            "bar_color": null,
            "description_width": ""
          }
        },
        "51c1a01fdc484a90b3e4491b867831e5": {
          "model_module": "@jupyter-widgets/base",
          "model_name": "LayoutModel",
          "model_module_version": "1.2.0",
          "state": {
            "_model_module": "@jupyter-widgets/base",
            "_model_module_version": "1.2.0",
            "_model_name": "LayoutModel",
            "_view_count": null,
            "_view_module": "@jupyter-widgets/base",
            "_view_module_version": "1.2.0",
            "_view_name": "LayoutView",
            "align_content": null,
            "align_items": null,
            "align_self": null,
            "border": null,
            "bottom": null,
            "display": null,
            "flex": null,
            "flex_flow": null,
            "grid_area": null,
            "grid_auto_columns": null,
            "grid_auto_flow": null,
            "grid_auto_rows": null,
            "grid_column": null,
            "grid_gap": null,
            "grid_row": null,
            "grid_template_areas": null,
            "grid_template_columns": null,
            "grid_template_rows": null,
            "height": null,
            "justify_content": null,
            "justify_items": null,
            "left": null,
            "margin": null,
            "max_height": null,
            "max_width": null,
            "min_height": null,
            "min_width": null,
            "object_fit": null,
            "object_position": null,
            "order": null,
            "overflow": null,
            "overflow_x": null,
            "overflow_y": null,
            "padding": null,
            "right": null,
            "top": null,
            "visibility": null,
            "width": null
          }
        },
        "073ebd9f9c484993966125ef6a0e431d": {
          "model_module": "@jupyter-widgets/controls",
          "model_name": "DescriptionStyleModel",
          "model_module_version": "1.5.0",
          "state": {
            "_model_module": "@jupyter-widgets/controls",
            "_model_module_version": "1.5.0",
            "_model_name": "DescriptionStyleModel",
            "_view_count": null,
            "_view_module": "@jupyter-widgets/base",
            "_view_module_version": "1.2.0",
            "_view_name": "StyleView",
            "description_width": ""
          }
        }
      }
    }
  },
  "cells": [
    {
      "cell_type": "code",
      "execution_count": 1,
      "metadata": {
        "id": "n0xt-TiAbg7G"
      },
      "outputs": [],
      "source": [
        "import numpy as np\n",
        "from matplotlib import pyplot as plt\n",
        "import torch\n",
        "from random import shuffle\n",
        "from torch import nn\n",
        "import torchvision as TV\n",
        "from torch.utils.tensorboard import SummaryWriter\n",
        "from collections import deque\n",
        "from tqdm import tqdm"
      ]
    },
    {
      "cell_type": "code",
      "source": [
        "device = torch.device('cuda') if torch.cuda.is_available() else torch.device('cpu')\n",
        "print(device)"
      ],
      "metadata": {
        "colab": {
          "base_uri": "https://localhost:8080/"
        },
        "id": "NxBjzeG_Q_Jq",
        "outputId": "6484297b-d260-447c-b071-57a3e082c50d"
      },
      "execution_count": 2,
      "outputs": [
        {
          "output_type": "stream",
          "name": "stdout",
          "text": [
            "cuda\n"
          ]
        }
      ]
    },
    {
      "cell_type": "code",
      "source": [
        "mnist_data = TV.datasets.MNIST(\"MNIST/\", train=True, transform=None,\\\n",
        "                                        target_transform=None, download=True) \n",
        "mnist_test = TV.datasets.MNIST(\"MNIST/\", train=False, transform=None,\\\n",
        "                                        target_transform=None, download=True) "
      ],
      "metadata": {
        "id": "8-iy6ZHzbonr",
        "colab": {
          "base_uri": "https://localhost:8080/",
          "height": 423,
          "referenced_widgets": [
            "bdbb9a5d4f604323a06a8a97a996aaf2",
            "d9804ff9ea2044d78082d3af50a17be5",
            "496249c4b7d144f6b0dd3c394caf45d7",
            "d6d491fb9ed34ec78fc38c2221d4f397",
            "d7768f7e8e7e4639998f9b6f1115f293",
            "3fca0711602c401e9cda33d32b569596",
            "3d143af7673c49a896771115fe1dd801",
            "64f9715b56d34a4996885cbaa637ae28",
            "e62146f361be4df3b5a69c74661e51e8",
            "9a0b0b4434784863bcc337a4dfee19a9",
            "1ec1666686f242f1809cbd81bf008cf5",
            "deef3fac6a764d3b80625545aeb173bc",
            "4e2d4ec5829d48e0b6a68d275ab67af3",
            "78b8a70de7fa4b0c87c540728a206a57",
            "c3bca045ed7141af9e741880e17d2294",
            "bb2f7f24eb3a429a8fbd1ce0b321bed4",
            "9d21cd4729a44180992a1f8bdb0f3bba",
            "697ed49c417740f29262eb6358bee919",
            "a94b7586a422405e97d54dbaa68c240d",
            "5bb3cd2aa24646aead4adad4a62852b9",
            "1ba953f6068c4da0a8694ea75c66a923",
            "a06c025bd03a4137899954fcca176127",
            "5970e114aab5418cad04221c48d22751",
            "689c732db679421080df29609b9ebbe2",
            "e9e3f30f0b2943d08534991ec350fcc7",
            "5c9854e19bbd4a8aa703ee597abeb6b2",
            "9a73c6be04f44a0fa611c5d79e7159d2",
            "c3ed8f3f8c0f4990baa85b837430edd3",
            "3f63f0e1458641e687ecca793a9a6818",
            "68392d40af354aaeafab6b6adfbe44d3",
            "ecea80d6422a4a97ad09732b3adaa9f5",
            "446e13a30df54a47a2b8606cdb835d11",
            "343234791e454cbea7b07cc7ef58b36d",
            "39174d64d8aa4b6cb0a72c89c653dfa8",
            "77443c0d85864585ac7e0eb53d1a3857",
            "f885dd08659d4660a6351775105da341",
            "5c6e699369b24fab9babb4d62f717347",
            "e5c4ae991c624f7a86a13d3b03cbb923",
            "a2ba7c27faca44ae8510f97be6fc990e",
            "a0dbd2599c4e4aa0b2f6c9b1e59d7955",
            "e806714ed2f340fb8b00a3b193db7b40",
            "3360e21d89bf4566affe8f45451e9d72",
            "51c1a01fdc484a90b3e4491b867831e5",
            "073ebd9f9c484993966125ef6a0e431d"
          ]
        },
        "outputId": "c54fff55-1c73-4c73-9012-132347dcfe55"
      },
      "execution_count": 3,
      "outputs": [
        {
          "output_type": "stream",
          "name": "stdout",
          "text": [
            "Downloading http://yann.lecun.com/exdb/mnist/train-images-idx3-ubyte.gz\n",
            "Downloading http://yann.lecun.com/exdb/mnist/train-images-idx3-ubyte.gz to MNIST/MNIST/raw/train-images-idx3-ubyte.gz\n"
          ]
        },
        {
          "output_type": "display_data",
          "data": {
            "text/plain": [
              "  0%|          | 0/9912422 [00:00<?, ?it/s]"
            ],
            "application/vnd.jupyter.widget-view+json": {
              "version_major": 2,
              "version_minor": 0,
              "model_id": "bdbb9a5d4f604323a06a8a97a996aaf2"
            }
          },
          "metadata": {}
        },
        {
          "output_type": "stream",
          "name": "stdout",
          "text": [
            "Extracting MNIST/MNIST/raw/train-images-idx3-ubyte.gz to MNIST/MNIST/raw\n",
            "\n",
            "Downloading http://yann.lecun.com/exdb/mnist/train-labels-idx1-ubyte.gz\n",
            "Downloading http://yann.lecun.com/exdb/mnist/train-labels-idx1-ubyte.gz to MNIST/MNIST/raw/train-labels-idx1-ubyte.gz\n"
          ]
        },
        {
          "output_type": "display_data",
          "data": {
            "text/plain": [
              "  0%|          | 0/28881 [00:00<?, ?it/s]"
            ],
            "application/vnd.jupyter.widget-view+json": {
              "version_major": 2,
              "version_minor": 0,
              "model_id": "deef3fac6a764d3b80625545aeb173bc"
            }
          },
          "metadata": {}
        },
        {
          "output_type": "stream",
          "name": "stdout",
          "text": [
            "Extracting MNIST/MNIST/raw/train-labels-idx1-ubyte.gz to MNIST/MNIST/raw\n",
            "\n",
            "Downloading http://yann.lecun.com/exdb/mnist/t10k-images-idx3-ubyte.gz\n",
            "Downloading http://yann.lecun.com/exdb/mnist/t10k-images-idx3-ubyte.gz to MNIST/MNIST/raw/t10k-images-idx3-ubyte.gz\n"
          ]
        },
        {
          "output_type": "display_data",
          "data": {
            "text/plain": [
              "  0%|          | 0/1648877 [00:00<?, ?it/s]"
            ],
            "application/vnd.jupyter.widget-view+json": {
              "version_major": 2,
              "version_minor": 0,
              "model_id": "5970e114aab5418cad04221c48d22751"
            }
          },
          "metadata": {}
        },
        {
          "output_type": "stream",
          "name": "stdout",
          "text": [
            "Extracting MNIST/MNIST/raw/t10k-images-idx3-ubyte.gz to MNIST/MNIST/raw\n",
            "\n",
            "Downloading http://yann.lecun.com/exdb/mnist/t10k-labels-idx1-ubyte.gz\n",
            "Downloading http://yann.lecun.com/exdb/mnist/t10k-labels-idx1-ubyte.gz to MNIST/MNIST/raw/t10k-labels-idx1-ubyte.gz\n"
          ]
        },
        {
          "output_type": "display_data",
          "data": {
            "text/plain": [
              "  0%|          | 0/4542 [00:00<?, ?it/s]"
            ],
            "application/vnd.jupyter.widget-view+json": {
              "version_major": 2,
              "version_minor": 0,
              "model_id": "39174d64d8aa4b6cb0a72c89c653dfa8"
            }
          },
          "metadata": {}
        },
        {
          "output_type": "stream",
          "name": "stdout",
          "text": [
            "Extracting MNIST/MNIST/raw/t10k-labels-idx1-ubyte.gz to MNIST/MNIST/raw\n",
            "\n"
          ]
        }
      ]
    },
    {
      "cell_type": "code",
      "source": [
        "print(mnist_data.data.shape)\n",
        "print(mnist_data.targets.shape)\n",
        "print(mnist_test.data.shape)\n",
        "print(mnist_test.targets.shape)"
      ],
      "metadata": {
        "colab": {
          "base_uri": "https://localhost:8080/"
        },
        "id": "9Fr-1CJmZcPg",
        "outputId": "00337535-f846-4c2b-8ef2-22d45f66e6e9"
      },
      "execution_count": 4,
      "outputs": [
        {
          "output_type": "stream",
          "name": "stdout",
          "text": [
            "torch.Size([60000, 28, 28])\n",
            "torch.Size([60000])\n",
            "torch.Size([10000, 28, 28])\n",
            "torch.Size([10000])\n"
          ]
        }
      ]
    },
    {
      "cell_type": "code",
      "source": [
        "def running_mean(x,w=50,step=1):\n",
        "    c = 1.0/w\n",
        "    conv = np.array([c]).repeat(w)\n",
        "    output = []\n",
        "    s,e = 0,w\n",
        "    for i in range(x.shape[0]):\n",
        "        sub = x[s:e]\n",
        "        if sub.shape[0] < w:\n",
        "            break\n",
        "        tmp = conv @ sub\n",
        "        output.append(tmp)\n",
        "        s = s + step\n",
        "        e = s + w\n",
        "    return np.array(output)"
      ],
      "metadata": {
        "id": "czSICeTKBcZN"
      },
      "execution_count": 5,
      "outputs": []
    },
    {
      "cell_type": "code",
      "source": [
        "def add_spots(x,m=20,std=5,val=1): \n",
        "    mask = torch.zeros(x.shape)\n",
        "    N = int(m + std * np.abs(np.random.randn()))\n",
        "    ids = np.random.randint(np.prod(x.shape),size=N)\n",
        "    mask.view(-1)[ids] = val\n",
        "    return torch.clamp(x + mask,0,1)\n",
        "\n",
        "def prepare_images(xt,maxtrans=6,rot=5,noise=10):\n",
        "    out = torch.zeros(xt.shape)\n",
        "    for i in range(xt.shape[0]):\n",
        "        img = xt[i].unsqueeze(dim=0)\n",
        "        img = TV.transforms.functional.to_pil_image(img)\n",
        "        rand_rot = int(np.random.randint(-1*rot,rot,1)) if rot > 0 else 0\n",
        "        xtrans,ytrans = np.random.randint(-maxtrans,maxtrans,2)\n",
        "        img = TV.transforms.functional.affine(img, rand_rot, (xtrans,ytrans),1,0)\n",
        "        img = TV.transforms.functional.to_tensor(img).squeeze()\n",
        "        if noise > 0:\n",
        "            img = add_spots(img,m=noise)\n",
        "        maxval = img.view(-1).max()\n",
        "        if maxval > 0:\n",
        "            img = img.float() / maxval\n",
        "        else:\n",
        "            img = img.float()\n",
        "        out[i] = img\n",
        "    return out"
      ],
      "metadata": {
        "id": "IWltcYHEgsPw"
      },
      "execution_count": 6,
      "outputs": []
    },
    {
      "cell_type": "code",
      "source": [
        "batch_size = 6\n",
        "batch_ids = np.random.randint(0,60000,size=batch_size)\n",
        "samples = mnist_data.data[batch_ids].detach()\n",
        "labels = mnist_data.targets[batch_ids].detach()\n",
        "print(samples.shape)\n",
        "samples = prepare_images(samples,rot=30).unsqueeze(dim=1)\n",
        "print(samples.shape)\n",
        "samples = samples.cpu().detach().numpy()\n",
        "plt.figure(figsize=(10,10))\n",
        "for i, (img, label) in enumerate(zip(samples, labels)):\n",
        "  plt.subplot(3,2,i+1)\n",
        "  plt.title(label.item())\n",
        "  plt.imshow(img.squeeze())"
      ],
      "metadata": {
        "colab": {
          "base_uri": "https://localhost:8080/",
          "height": 642
        },
        "id": "NO6rb1fshBxQ",
        "outputId": "dd9ca00c-db74-4af7-db55-d755a32d42aa"
      },
      "execution_count": 7,
      "outputs": [
        {
          "output_type": "stream",
          "name": "stdout",
          "text": [
            "torch.Size([6, 28, 28])\n",
            "torch.Size([6, 1, 28, 28])\n"
          ]
        },
        {
          "output_type": "display_data",
          "data": {
            "text/plain": [
              "<Figure size 720x720 with 6 Axes>"
            ],
            "image/png": "[encoded data removed]"
          },
          "metadata": {
            "needs_background": "light"
          }
        }
      ]
    },
    {
      "cell_type": "code",
      "source": [
        "class RelationalModule(torch.nn.Module):\n",
        "    def __init__(self):\n",
        "        super(RelationalModule, self).__init__()\n",
        "        # Defines the number of channels for each convolutional layer\n",
        "        self.ch_in = 1\n",
        "        self.conv1_ch = 16 \n",
        "        self.conv2_ch = 20 #dim `F` in paper\n",
        "        self.conv3_ch = 24\n",
        "        self.conv4_ch = 30\n",
        "        #self.H and self.W are the height and width of the input image, respectively.\n",
        "        self.H = 28\n",
        "        self.W = 28\n",
        "        self.node_size = 36 #dim `E`, The dimension of the nodes after passing through the relational module\n",
        "        self.lin_hid = 100\n",
        "        self.out_dim = 10\n",
        "        self.sp_coord_dim = 2\n",
        "        self.N = int(16**2) #The number of objects or nodes, which is just the number of pixels after passing through the convolutions\n",
        "        #\n",
        "        self.conv1 = nn.Conv2d(self.ch_in,self.conv1_ch,kernel_size=(4,4)).to(device)\n",
        "        self.conv2 = nn.Conv2d(self.conv1_ch,self.conv2_ch,kernel_size=(4,4)).to(device)\n",
        "        self.conv3 = nn.Conv2d(self.conv2_ch,self.conv3_ch,kernel_size=(4,4)).to(device)\n",
        "        self.conv4 = nn.Conv2d(self.conv3_ch,self.conv4_ch,kernel_size=(4,4)).to(device)\n",
        "        #\n",
        "        self.proj_shape = (self.conv4_ch+self.sp_coord_dim,self.node_size) #The dimensionality of each node vector is the number of channels in the last convolution plus 2 spatial dimensions.\n",
        "        self.k_proj = nn.Linear(*self.proj_shape).to(device)\n",
        "        self.q_proj = nn.Linear(*self.proj_shape).to(device)\n",
        "        self.v_proj = nn.Linear(*self.proj_shape).to(device)\n",
        "        #\n",
        "        self.node_shape = (self.N,self.node_size)\n",
        "        #\n",
        "        # self.k_lin = nn.Linear(self.node_size,self.N).to(device)\n",
        "        # self.q_lin = nn.Linear(self.node_size,self.N).to(device)\n",
        "        #\n",
        "        \n",
        "        self.k_norm = nn.LayerNorm(self.node_shape, elementwise_affine=True).to(device)\n",
        "        self.q_norm = nn.LayerNorm(self.node_shape, elementwise_affine=True).to(device)\n",
        "        self.v_norm = nn.LayerNorm(self.node_shape, elementwise_affine=True).to(device)\n",
        "        #\n",
        "        self.linear1 = nn.Linear(self.node_size, self.node_size).to(device)\n",
        "        self.norm1 = nn.LayerNorm(self.node_shape, elementwise_affine=False).to(device)\n",
        "        self.linear2 = nn.Linear(self.node_size, self.out_dim).to(device)\n",
        "    \n",
        "    def forward(self,x):\n",
        "        \"\"\"\n",
        "        `x` is a tensor (Batch_Size, C_{in}, Depth=1, Ht, Wt)\n",
        "        \"\"\"\n",
        "        N, Cin, H, W = x.shape\n",
        "        x = self.conv1(x) \n",
        "        x = torch.relu(x)\n",
        "        x = self.conv2(x) \n",
        "        # x = x.squeeze() \n",
        "        x = torch.relu(x) \n",
        "        x = self.conv3(x)\n",
        "        x = torch.relu(x)\n",
        "        x = self.conv4(x)\n",
        "        x = torch.relu(x)\n",
        "\n",
        "        _,_,cH,cW = x.shape\n",
        "        xcoords = torch.arange(cW).repeat(cH,1).float().to(device) / cW\n",
        "        ycoords = torch.arange(cH).repeat(cW,1).transpose(1,0).float().to(device) / cH\n",
        "        spatial_coords = torch.stack([xcoords,ycoords],dim=0)\n",
        "        spatial_coords = spatial_coords.unsqueeze(dim=0)\n",
        "        spatial_coords = spatial_coords.repeat(N,1,1,1)\n",
        "        x = torch.cat([x,spatial_coords],dim=1)\n",
        "        x = x.permute(0,2,3,1)\n",
        "        x = x.flatten(1,2)\n",
        "        \n",
        "        K = self.k_proj(x)\n",
        "        K = self.k_norm(K) \n",
        "        \n",
        "        Q = self.q_proj(x)\n",
        "        Q = self.q_norm(Q) \n",
        "        \n",
        "        V = self.v_proj(x)\n",
        "        V = self.v_norm(V) \n",
        "        A = torch.einsum('bfe,bge->bfg',Q,K) \n",
        "        A = A / np.sqrt(self.node_size)\n",
        "        #A = torch.nn.functional.elu(self.q_lin(Q) + self.k_lin(K))\n",
        "        A = torch.nn.functional.softmax(A,dim=2) \n",
        "        with torch.no_grad():\n",
        "            self.att_map = A.cpu().detach()\n",
        "        E = torch.einsum('bfc,bcd->bfd',A,V)\n",
        "        E = self.linear1(E)\n",
        "        E = torch.relu(E)\n",
        "        E = self.norm1(E)\n",
        "        # E = E.max(dim=1)[0]\n",
        "        E = E.mean(dim=1)\n",
        "        y = self.linear2(E)\n",
        "        y = torch.nn.functional.log_softmax(y,dim=1)\n",
        "        return y"
      ],
      "metadata": {
        "id": "klEm4L4Oh4cZ"
      },
      "execution_count": 8,
      "outputs": []
    },
    {
      "cell_type": "code",
      "source": [
        "RelationalModule()(torch.randn(2,1,28,28).to(device)).shape"
      ],
      "metadata": {
        "colab": {
          "base_uri": "https://localhost:8080/"
        },
        "id": "4QeblXD6mlJv",
        "outputId": "718a9a74-2f98-4ddb-cf53-a44b3d3a9f01"
      },
      "execution_count": 9,
      "outputs": [
        {
          "output_type": "execute_result",
          "data": {
            "text/plain": [
              "torch.Size([2, 10])"
            ]
          },
          "metadata": {},
          "execution_count": 9
        }
      ]
    },
    {
      "cell_type": "code",
      "source": [
        "#Test train on MNIST\n",
        "def train(model, lr=1e-3, batch_size=300, epochs=2000):\n",
        "  # writer = SummaryWriter()\n",
        "  lossfn = nn.NLLLoss()\n",
        "  opt = torch.optim.Adam(params=model.parameters(),lr=lr)\n",
        "  losses = []\n",
        "  acc = []\n",
        "  for i in tqdm(range(epochs)):\n",
        "      opt.zero_grad()\n",
        "      batch_ids = np.random.randint(0,60000,size=batch_size)\n",
        "      xt = mnist_data.data[batch_ids].detach()\n",
        "      xt = prepare_images(xt,rot=30).unsqueeze(dim=1) #add chanel dimension\n",
        "      yt = mnist_data.targets[batch_ids].detach()\n",
        "      #\n",
        "      pred = model(xt.cuda()).cpu()\n",
        "      pred_labels = torch.argmax(pred,dim=1)\n",
        "      acc_ = 100.0 * (pred_labels == yt).sum() / batch_size\n",
        "      acc.append(acc_)\n",
        "      # correct = torch.zeros(batch_size,10)\n",
        "      # rows = torch.arange(batch_size).long()\n",
        "      # correct[[rows,yt.detach().long()]] = 1.\n",
        "      loss = lossfn(pred,yt)\n",
        "      losses.append(loss.detach().numpy())\n",
        "      # writer.add_scalar('Loss/train', loss.detach().numpy(), i)\n",
        "      # writer.add_scalar('Acc/train', acc_.detach().numpy(), i)\n",
        "      loss.backward()\n",
        "      opt.step()\n",
        "  losses = np.array(losses)\n",
        "  acc = np.array(acc)\n",
        "  return model,losses, acc"
      ],
      "metadata": {
        "id": "90zW7MgEUI2w"
      },
      "execution_count": 10,
      "outputs": []
    },
    {
      "cell_type": "code",
      "source": [
        "%%time\n",
        "agent_relational = RelationalModule()\n",
        "#Test train on MNIST\n",
        "agent_relational, losses_relational, acc_relational = train(agent_relational)"
      ],
      "metadata": {
        "colab": {
          "base_uri": "https://localhost:8080/"
        },
        "id": "3IUzzcwy_5U_",
        "outputId": "bf2a1a9d-6f12-468f-e987-25a5fdb88f1b"
      },
      "execution_count": 11,
      "outputs": [
        {
          "output_type": "stream",
          "name": "stderr",
          "text": [
            "100%|██████████| 2000/2000 [05:27<00:00,  6.11it/s]"
          ]
        },
        {
          "output_type": "stream",
          "name": "stdout",
          "text": [
            "CPU times: user 5min 21s, sys: 2.77 s, total: 5min 24s\n",
            "Wall time: 5min 27s\n"
          ]
        },
        {
          "output_type": "stream",
          "name": "stderr",
          "text": [
            "\n"
          ]
        }
      ]
    },
    {
      "cell_type": "code",
      "source": [
        "fig,ax = plt.subplots(1,2)\n",
        "fig.set_size_inches(20,5)\n",
        "ax[0].plot(running_mean(losses_relational))\n",
        "ax[1].plot(running_mean(acc_relational))"
      ],
      "metadata": {
        "colab": {
          "base_uri": "https://localhost:8080/",
          "height": 340
        },
        "id": "qBDeak1iAZ1_",
        "outputId": "7a7023d6-1557-4524-a46a-7e63700d669e"
      },
      "execution_count": 12,
      "outputs": [
        {
          "output_type": "execute_result",
          "data": {
            "text/plain": [
              "[<matplotlib.lines.Line2D at 0x7f8691d48b90>]"
            ]
          },
          "metadata": {},
          "execution_count": 12
        },
        {
          "output_type": "display_data",
          "data": {
            "text/plain": [
              "<Figure size 1440x360 with 2 Axes>"
            ],
            "image/png": "[encoded data removed]"
          },
          "metadata": {
            "needs_background": "light"
          }
        }
      ]
    },
    {
      "cell_type": "code",
      "source": [
        "def test_acc(model,batch_size=500):\n",
        "    acc = 0.\n",
        "    ids = np.random.randint(0,10000,size=10000)\n",
        "    for i in range(0,10000, batch_size):\n",
        "      batch_ids = ids[i: i+batch_size]\n",
        "      xt = mnist_test.data[batch_ids].detach() #batch_size x 28,28\n",
        "      xt = prepare_images(xt,rot=30).unsqueeze(dim=1)\n",
        "      yt = mnist_test.targets[batch_ids].detach()\n",
        "      preds = model(xt.to(device)).cpu()\n",
        "      pred_ind = torch.argmax(preds.detach(),dim=1)\n",
        "      acc += (pred_ind == yt).sum().float() \n",
        "    return acc / 10000, xt, yt"
      ],
      "metadata": {
        "id": "YcZC2-PnBWRX"
      },
      "execution_count": 13,
      "outputs": []
    },
    {
      "cell_type": "code",
      "source": [
        "# def test_acc(model,batch_size=500):\n",
        "#     acc = 0.\n",
        "#     batch_ids = np.random.randint(0,10000,size=batch_size)\n",
        "#     xt = mnist_test.data[batch_ids].detach() #batch_size x 28,28\n",
        "#     xt = prepare_images(xt,rot=30).unsqueeze(dim=1)\n",
        "#     yt = mnist_test.targets[batch_ids].detach()\n",
        "#     preds = model(xt.cuda()).cpu()\n",
        "#     pred_ind = torch.argmax(preds.detach(),dim=1)\n",
        "#     acc = (pred_ind == yt).sum().float() / batch_size\n",
        "#     return acc, xt, yt"
      ],
      "metadata": {
        "id": "NPeOgtC6GcEJ"
      },
      "execution_count": 14,
      "outputs": []
    },
    {
      "cell_type": "code",
      "source": [
        "acc_relational, xt_last, yt_last = test_acc(agent_relational)\n",
        "print(acc_relational)"
      ],
      "metadata": {
        "colab": {
          "base_uri": "https://localhost:8080/"
        },
        "id": "LrZiQPYhBl21",
        "outputId": "d0883c68-4f7c-4497-fc36-a009b479cb8a"
      },
      "execution_count": 15,
      "outputs": [
        {
          "output_type": "stream",
          "name": "stdout",
          "text": [
            "tensor(0.9616)\n"
          ]
        }
      ]
    },
    {
      "cell_type": "code",
      "source": [
        "plt.figure(figsize=(20,40))\n",
        "j = 0\n",
        "for i in range(1,41,2):\n",
        "  plt.subplot(10,4,i), #plt.xticks([]), plt.yticks([])\n",
        "  plt.imshow(xt_last[j][0])\n",
        "  plt.subplot(10,4, i + 1), #plt.xticks([]), plt.yticks([])\n",
        "  att = agent_relational.att_map.cpu()[j].mean(dim=0).view(16,16)\n",
        "  plt.imshow(att)\n",
        "  j = j + 1"
      ],
      "metadata": {
        "colab": {
          "base_uri": "https://localhost:8080/",
          "height": 1000
        },
        "id": "Cs1ZrrYeFg72",
        "outputId": "389c535c-be3d-4ba0-dd47-04deb6894789"
      },
      "execution_count": 16,
      "outputs": [
        {
          "output_type": "display_data",
          "data": {
            "text/plain": [
              "<Figure size 1440x2880 with 40 Axes>"
            ],
            "image/png": "[encoded data removed]"
          },
          "metadata": {
            "needs_background": "light"
          }
        }
      ]
    },
    {
      "cell_type": "code",
      "source": [
        "class CNN(torch.nn.Module):\n",
        "    def __init__(self):\n",
        "        super(CNN, self).__init__()\n",
        "        self.conv1 = nn.Conv2d(1,10,kernel_size=(4,4))\n",
        "        self.conv2 = nn.Conv2d(10,16,kernel_size=(4,4))\n",
        "        self.conv3 = nn.Conv2d(16,24,kernel_size=(4,4))\n",
        "        self.conv4 = nn.Conv2d(24,32,kernel_size=(4,4))\n",
        "        self.maxpool1 = nn.MaxPool2d(kernel_size=(2,2)) \n",
        "        self.conv5 = nn.Conv2d(32,64,kernel_size=(4,4))\n",
        "        self.lin1 = nn.Linear(256,128)\n",
        "        self.out = nn.Linear(128,10) \n",
        "    def forward(self,x):\n",
        "        x = self.conv1(x)\n",
        "        x = nn.functional.relu(x)\n",
        "        x = self.conv2(x)\n",
        "        x = nn.functional.relu(x)\n",
        "        x = self.maxpool1(x)\n",
        "        x = self.conv3(x)\n",
        "        x = nn.functional.relu(x)\n",
        "        x = self.conv4(x)\n",
        "        x = nn.functional.relu(x)\n",
        "        x = self.conv5(x)\n",
        "        x = nn.functional.relu(x)\n",
        "        x = x.flatten(start_dim=1)\n",
        "        x = self.lin1(x)\n",
        "        x = nn.functional.relu(x)\n",
        "        x = self.out(x)\n",
        "        x = nn.functional.log_softmax(x,dim=1)\n",
        "        return x"
      ],
      "metadata": {
        "id": "wqglJ0kgMRrR"
      },
      "execution_count": 17,
      "outputs": []
    },
    {
      "cell_type": "code",
      "source": [
        "%%time\n",
        "agent_cnn = CNN().to(device)\n",
        "#Test train on MNIST\n",
        "\n",
        "agent_cnn, losses_cnn, acc_cnn = train(agent_cnn)"
      ],
      "metadata": {
        "colab": {
          "base_uri": "https://localhost:8080/"
        },
        "id": "6qr-PHNSMb3T",
        "outputId": "75b51e3f-d6d0-4bb4-bd50-47cb0df1a44d"
      },
      "execution_count": 18,
      "outputs": [
        {
          "output_type": "stream",
          "name": "stderr",
          "text": [
            "100%|██████████| 2000/2000 [04:15<00:00,  7.82it/s]"
          ]
        },
        {
          "output_type": "stream",
          "name": "stdout",
          "text": [
            "CPU times: user 4min 14s, sys: 1.87 s, total: 4min 16s\n",
            "Wall time: 4min 15s\n"
          ]
        },
        {
          "output_type": "stream",
          "name": "stderr",
          "text": [
            "\n"
          ]
        }
      ]
    },
    {
      "cell_type": "code",
      "source": [
        "fig,ax = plt.subplots(1,2)\n",
        "fig.set_size_inches(20,5)\n",
        "ax[0].plot(running_mean(losses_cnn))\n",
        "ax[1].plot(running_mean(acc_cnn))"
      ],
      "metadata": {
        "colab": {
          "base_uri": "https://localhost:8080/",
          "height": 339
        },
        "id": "DsXjyDaUMlZE",
        "outputId": "eaee75e8-6e26-4a3a-ef35-c827e12f15fd"
      },
      "execution_count": 19,
      "outputs": [
        {
          "output_type": "execute_result",
          "data": {
            "text/plain": [
              "[<matplotlib.lines.Line2D at 0x7f8616ffba50>]"
            ]
          },
          "metadata": {},
          "execution_count": 19
        },
        {
          "output_type": "display_data",
          "data": {
            "text/plain": [
              "<Figure size 1440x360 with 2 Axes>"
            ],
            "image/png": "[encoded data removed]"
          },
          "metadata": {
            "needs_background": "light"
          }
        }
      ]
    },
    {
      "cell_type": "code",
      "source": [
        "acc_cnn, _,_  = test_acc(agent_cnn)\n",
        "print(acc_cnn)"
      ],
      "metadata": {
        "colab": {
          "base_uri": "https://localhost:8080/"
        },
        "id": "eOKqDt7YMwXO",
        "outputId": "11954b6d-8b39-4383-d858-c0d7ca76ec01"
      },
      "execution_count": 20,
      "outputs": [
        {
          "output_type": "stream",
          "name": "stdout",
          "text": [
            "tensor(0.9391)\n"
          ]
        }
      ]
    },
    {
      "cell_type": "code",
      "source": [
        ""
      ],
      "metadata": {
        "id": "yWPIvwkzQK1c"
      },
      "execution_count": 20,
      "outputs": []
    }
  ]
}